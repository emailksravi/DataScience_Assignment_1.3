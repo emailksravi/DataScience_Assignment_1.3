{
 "cells": [
  {
   "cell_type": "code",
   "execution_count": 71,
   "metadata": {},
   "outputs": [
    {
     "name": "stdout",
     "output_type": "stream",
     "text": [
      "Enter First Name : Shane\n",
      "Enter Last Name : Warne\n",
      "Warne Shane\n"
     ]
    }
   ],
   "source": [
    "\"\"\"\n",
    "If input does not work, Choose Menu options Kernel -> Interrupt.\n",
    "Run cell\n",
    "\"\"\"\n",
    "import re\n",
    "\n",
    "# Get Name Function - Generic\n",
    "def get_String_Input(prompt_message):\n",
    "    input_string = input(prompt_message)\n",
    "    return input_string\n",
    "\n",
    "\n",
    "# Validate to allow only string and spaces. No other characters allowed in First,last Names\n",
    "def validate_string(input_string):\n",
    "    return bool(re.search(\"^[a-zA-Z ]+$\", input_string))\n",
    "\n",
    "\n",
    "# Function to loop input until correct string provided\n",
    "def loop_until_input(prompt_message):\n",
    "  while True:\n",
    "    userInput = get_String_Input(prompt_message).strip()\n",
    "\n",
    "    if validate_string(userInput):\n",
    "        return userInput\n",
    "        break\n",
    "    else:\n",
    "        continue\n",
    "\n",
    "# Get Name details into variables\n",
    "first_name = loop_until_input(\"Enter First Name : \")\n",
    "last_name = loop_until_input(\"Enter Last Name : \")\n",
    "\n",
    "# print inputs\n",
    "print (last_name , first_name)"
   ]
  },
  {
   "cell_type": "code",
   "execution_count": null,
   "metadata": {
    "collapsed": true
   },
   "outputs": [],
   "source": []
  }
 ],
 "metadata": {
  "kernelspec": {
   "display_name": "Python 3",
   "language": "python",
   "name": "python3"
  }
 },
 "nbformat": 4,
 "nbformat_minor": 2
}
